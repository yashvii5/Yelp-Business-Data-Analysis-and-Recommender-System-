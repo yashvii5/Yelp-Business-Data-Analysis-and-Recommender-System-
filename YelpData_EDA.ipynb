{
  "nbformat": 4,
  "nbformat_minor": 0,
  "metadata": {
    "colab": {
      "name": "YelpData_EDA.ipynb",
      "provenance": [],
      "mount_file_id": "1h7cprBZhIyqkYmFMtzdUpMuDjaoaEwN8",
      "authorship_tag": "ABX9TyN76qR3xhWwMNhDd00k/AuE",
      "include_colab_link": true
    },
    "kernelspec": {
      "name": "python3",
      "display_name": "Python 3"
    },
    "language_info": {
      "name": "python"
    }
  },
  "cells": [
    {
      "cell_type": "markdown",
      "metadata": {
        "id": "view-in-github",
        "colab_type": "text"
      },
      "source": [
        "<a href=\"https://colab.research.google.com/github/yashvii5/Yelp-Business-Data-Analysis-and-Recommender-System-/blob/main/YelpData_EDA.ipynb\" target=\"_parent\"><img src=\"https://colab.research.google.com/assets/colab-badge.svg\" alt=\"Open In Colab\"/></a>"
      ]
    },
    {
      "cell_type": "markdown",
      "source": [
        "Importing Libraries:"
      ],
      "metadata": {
        "id": "tezF2q7jMWf9"
      }
    },
    {
      "cell_type": "code",
      "execution_count": 1,
      "metadata": {
        "id": "hX3E9gCvLUg0"
      },
      "outputs": [],
      "source": [
        "import pandas as pd\n",
        "import numpy as np\n",
        "import matplotlib.pyplot as plt"
      ]
    },
    {
      "cell_type": "code",
      "source": [
        "from google.colab import drive\n",
        "drive.mount('/content/drive')"
      ],
      "metadata": {
        "colab": {
          "base_uri": "https://localhost:8080/"
        },
        "id": "0YsLOPmCMaDI",
        "outputId": "8fdbfae7-6eb9-428d-f11c-60846d3e7ac7"
      },
      "execution_count": 2,
      "outputs": [
        {
          "output_type": "stream",
          "name": "stdout",
          "text": [
            "Mounted at /content/drive\n"
          ]
        }
      ]
    },
    {
      "cell_type": "code",
      "source": [
        "business = pd.read_json(\"/content/drive/MyDrive/USML Sp22/yelp_dataset/yelp_academic_dataset_business.json\", lines=True)"
      ],
      "metadata": {
        "id": "H8Tqs-ZPMvRS"
      },
      "execution_count": 3,
      "outputs": []
    },
    {
      "cell_type": "code",
      "source": [
        ""
      ],
      "metadata": {
        "id": "GxAO6cJ8NLsK"
      },
      "execution_count": null,
      "outputs": []
    }
  ]
}